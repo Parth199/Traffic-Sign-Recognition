{
 "cells": [
  {
   "cell_type": "code",
   "execution_count": 9,
   "metadata": {},
   "outputs": [],
   "source": [
    "import numpy as np \n",
    "import pandas as pd \n",
    "import matplotlib.pyplot as plt\n",
    "import cv2\n",
    "import tensorflow as tf\n",
    "from PIL import Image\n",
    "import os\n",
    "from sklearn.model_selection import train_test_split\n",
    "from keras.utils import to_categorical\n",
    "from keras.models import Sequential, load_model\n",
    "from keras.layers import Conv2D, MaxPool2D, Dense, Flatten, Dropout\n",
    "\n",
    "data = []\n",
    "labels = []\n",
    "classes = 43\n",
    "cur_path = os.getcwd()\n",
    "\n",
    "#Retrieving the images and their labels \n",
    "for i in range(classes):\n",
    "    path = os.path.join(cur_path,'train',str(i))\n",
    "    images = os.listdir(path)\n",
    "\n",
    "    for a in images:\n",
    "        try:\n",
    "            image = Image.open(path + '\\\\'+ a)\n",
    "            image = image.resize((30,30))\n",
    "            image = np.array(image)\n",
    "            #sim = Image.fromarray(image)\n",
    "            data.append(image)\n",
    "            labels.append(i)\n",
    "        except:\n",
    "            print(\"Error loading image\")\n",
    "\n",
    "#Converting lists into numpy arrays\n",
    "data = np.array(data)\n",
    "labels = np.array(labels)"
   ]
  },
  {
   "cell_type": "code",
   "execution_count": 10,
   "metadata": {},
   "outputs": [
    {
     "name": "stdout",
     "output_type": "stream",
     "text": [
      "(39209, 30, 30, 3) (39209,)\n",
      "(31367, 30, 30, 3) (7842, 30, 30, 3) (31367,) (7842,)\n"
     ]
    }
   ],
   "source": [
    "print(data.shape, labels.shape)\n",
    "#Splitting training and testing dataset\n",
    "X_train, X_test, y_train, y_test = train_test_split(data, labels, test_size=0.2, random_state=42)\n",
    "\n",
    "print(X_train.shape, X_test.shape, y_train.shape, y_test.shape)\n",
    "\n",
    "#Converting the labels into one hot encoding by using to_categoricaly method\n",
    "y_train = to_categorical(y_train, 43)\n",
    "y_test = to_categorical(y_test, 43)"
   ]
  },
  {
   "cell_type": "code",
   "execution_count": 11,
   "metadata": {},
   "outputs": [],
   "source": [
    "#Building a 2D convloution Neural Network model\n",
    "model = Sequential()\n",
    "model.add(Conv2D(filters=32, kernel_size=(5,5), activation='relu', input_shape=X_train.shape[1:])) #Using 32 Filters \n",
    "model.add(Conv2D(filters=32, kernel_size=(5,5), activation='relu')) #Kernel size used is (5,5) as some images are more than 128x128 megapixels \n",
    "model.add(MaxPool2D(pool_size=(2, 2))) #MaxPool is used to reduces the spatial dimensions\n",
    "model.add(Dropout(rate=0.25)) #Droput helps to generalize the network and not overfit it\n",
    "model.add(Conv2D(filters=64, kernel_size=(3, 3), activation='relu')) #We increase the filter size to 64 now\n",
    "model.add(Conv2D(filters=64, kernel_size=(3, 3), activation='relu')) #relu activation is used so that the model can learn non linearly\n",
    "model.add(MaxPool2D(pool_size=(2, 2)))\n",
    "model.add(Dropout(rate=0.25))\n",
    "model.add(Flatten())\n",
    "model.add(Dense(256, activation='relu'))\n",
    "model.add(Dropout(rate=0.5))\n",
    "model.add(Dense(43, activation='softmax')) #here softmax function is used as we are working with different classes of images and it helps easily indentifying the classes\n",
    "\n",
    "#Compilation of the model\n",
    "model.compile(loss='categorical_crossentropy', optimizer='adam', metrics=['accuracy'])"
   ]
  },
  {
   "cell_type": "code",
   "execution_count": 12,
   "metadata": {},
   "outputs": [
    {
     "name": "stdout",
     "output_type": "stream",
     "text": [
      "Epoch 1/16\n",
      "981/981 [==============================] - 66s 67ms/step - loss: 2.2342 - accuracy: 0.4157 - val_loss: 1.2728 - val_accuracy: 0.6401\n",
      "Epoch 2/16\n",
      "981/981 [==============================] - 70s 72ms/step - loss: 0.9120 - accuracy: 0.7319 - val_loss: 0.4162 - val_accuracy: 0.8921\n",
      "Epoch 3/16\n",
      "981/981 [==============================] - 71s 72ms/step - loss: 0.5365 - accuracy: 0.8412 - val_loss: 0.1825 - val_accuracy: 0.9462\n",
      "Epoch 4/16\n",
      "981/981 [==============================] - 68s 70ms/step - loss: 0.4190 - accuracy: 0.8773 - val_loss: 0.1263 - val_accuracy: 0.9620\n",
      "Epoch 5/16\n",
      "981/981 [==============================] - 69s 70ms/step - loss: 0.3272 - accuracy: 0.9028 - val_loss: 0.1340 - val_accuracy: 0.9638\n",
      "Epoch 6/16\n",
      "981/981 [==============================] - 69s 70ms/step - loss: 0.2926 - accuracy: 0.9155 - val_loss: 0.0815 - val_accuracy: 0.9769\n",
      "Epoch 7/16\n",
      "981/981 [==============================] - 68s 69ms/step - loss: 0.2676 - accuracy: 0.9251 - val_loss: 0.1213 - val_accuracy: 0.9661\n",
      "Epoch 8/16\n",
      "981/981 [==============================] - 66s 68ms/step - loss: 0.2427 - accuracy: 0.9310 - val_loss: 0.0613 - val_accuracy: 0.9832\n",
      "Epoch 9/16\n",
      "981/981 [==============================] - 66s 68ms/step - loss: 0.2338 - accuracy: 0.9352 - val_loss: 0.0741 - val_accuracy: 0.9782\n",
      "Epoch 10/16\n",
      "981/981 [==============================] - 66s 68ms/step - loss: 0.2571 - accuracy: 0.9325 - val_loss: 0.0619 - val_accuracy: 0.9828\n",
      "Epoch 11/16\n",
      "981/981 [==============================] - 67s 68ms/step - loss: 0.2286 - accuracy: 0.9376 - val_loss: 0.0495 - val_accuracy: 0.9852\n",
      "Epoch 12/16\n",
      "981/981 [==============================] - 66s 67ms/step - loss: 0.2248 - accuracy: 0.9397 - val_loss: 0.0640 - val_accuracy: 0.9825\n",
      "Epoch 13/16\n",
      "981/981 [==============================] - 66s 68ms/step - loss: 0.2383 - accuracy: 0.9372 - val_loss: 0.0439 - val_accuracy: 0.9890\n",
      "Epoch 14/16\n",
      "981/981 [==============================] - 67s 68ms/step - loss: 0.2086 - accuracy: 0.9441 - val_loss: 0.0850 - val_accuracy: 0.9746\n",
      "Epoch 15/16\n",
      "981/981 [==============================] - 68s 70ms/step - loss: 0.2227 - accuracy: 0.9422 - val_loss: 0.0922 - val_accuracy: 0.9737\n",
      "Epoch 16/16\n",
      "981/981 [==============================] - 68s 69ms/step - loss: 0.2253 - accuracy: 0.9410 - val_loss: 0.0648 - val_accuracy: 0.9807\n"
     ]
    }
   ],
   "source": [
    "epochs = 16\n",
    "history = model.fit(X_train, y_train, batch_size=32, epochs=epochs, validation_data=(X_test, y_test))"
   ]
  },
  {
   "cell_type": "code",
   "execution_count": 13,
   "metadata": {},
   "outputs": [
    {
     "data": {
      "image/png": "[encoded data removed]",
      "text/plain": [
       "<Figure size 432x288 with 1 Axes>"
      ]
     },
     "metadata": {
      "needs_background": "light"
     },
     "output_type": "display_data"
    },
    {
     "data": {
      "image/png": "[encoded data removed]",
      "text/plain": [
       "<Figure size 432x288 with 1 Axes>"
      ]
     },
     "metadata": {
      "needs_background": "light"
     },
     "output_type": "display_data"
    }
   ],
   "source": [
    "#plotting graphs for accuracy \n",
    "plt.figure(0)\n",
    "plt.plot(history.history['accuracy'], label='training accuracy')\n",
    "plt.plot(history.history['val_accuracy'], label='validation accuracy')\n",
    "plt.title('Accuracy')\n",
    "plt.xlabel('epochs')\n",
    "plt.ylabel('accuracy')\n",
    "plt.legend()\n",
    "plt.show()\n",
    "\n",
    "plt.figure(1)\n",
    "plt.plot(history.history['loss'], label='training loss')\n",
    "plt.plot(history.history['val_loss'], label='validation loss')\n",
    "plt.title('Loss')\n",
    "plt.xlabel('epochs')\n",
    "plt.ylabel('loss')\n",
    "plt.legend()\n",
    "plt.show()"
   ]
  },
  {
   "cell_type": "code",
   "execution_count": 16,
   "metadata": {},
   "outputs": [
    {
     "name": "stdout",
     "output_type": "stream",
     "text": [
      "0.9394299287410927\n"
     ]
    }
   ],
   "source": [
    "#testing accuracy on test dataset\n",
    "from sklearn.metrics import accuracy_score\n",
    "\n",
    "y_test = pd.read_csv('Test.csv')\n",
    "\n",
    "labels = y_test[\"ClassId\"].values\n",
    "imgs = y_test[\"Path\"].values\n",
    "\n",
    "data=[]\n",
    "\n",
    "for img in imgs:\n",
    "    image = Image.open(img)\n",
    "    image = image.resize((30,30))\n",
    "    data.append(np.array(image))\n",
    "\n",
    "X_test=np.array(data)\n",
    "\n",
    "pred = model.predict_classes(X_test)\n",
    "\n",
    "#Accuracy with the test data\n",
    "from sklearn.metrics import accuracy_score\n",
    "print(accuracy_score(labels, pred))\n"
   ]
  },
  {
   "cell_type": "code",
   "execution_count": 17,
   "metadata": {},
   "outputs": [],
   "source": [
    "model.save('traffic_Sign_classifier1.h5')"
   ]
  },
  {
   "cell_type": "code",
   "execution_count": null,
   "metadata": {},
   "outputs": [],
   "source": []
  }
 ],
 "metadata": {
  "kernelspec": {
   "display_name": "Python 3",
   "language": "python",
   "name": "python3"
  },
  "language_info": {
   "codemirror_mode": {
    "name": "ipython",
    "version": 3
   },
   "file_extension": ".py",
   "mimetype": "text/x-python",
   "name": "python",
   "nbconvert_exporter": "python",
   "pygments_lexer": "ipython3",
   "version": "3.8.5"
  }
 },
 "nbformat": 4,
 "nbformat_minor": 4
}
